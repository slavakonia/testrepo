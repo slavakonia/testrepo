{
 "cells": [
  {
   "cell_type": "markdown",
   "id": "b3a1fdb6",
   "metadata": {},
   "source": [
    "# Data Science Tools and Ecosystem\n",
    "\n",
    "In this notebook, Data Science Tools and Ecosystem are summarized.\n",
    "\n",
    "**Objectives:**\n",
    "\n",
    "* List popular languages for Data Science.\n",
    "* List libraries used.\n",
    "* popular tools.\n",
    "\n",
    "popular languages that Data Scientists use are:\n",
    "\n",
    "1- python\n",
    "2- R\n",
    "3- SQL\n",
    "\n",
    "Some of the commonly used libraries used by Data Scientists include:\n",
    "\n",
    "1- Pandas\n",
    "2- NumPy\n",
    "3- Pytorch\n",
    "\n",
    "Data Science Tools:\n",
    "1- SAS\n",
    "2- Apache Spark\n",
    "3- BigML\n",
    "\n",
    "### This a simple arithmetic expression to mutiply then add integers:\n"
   ]
  },
  {
   "cell_type": "code",
   "execution_count": 2,
   "id": "9b1dfed2",
   "metadata": {},
   "outputs": [
    {
     "data": {
      "text/plain": [
       "17"
      ]
     },
     "execution_count": 2,
     "metadata": {},
     "output_type": "execute_result"
    }
   ],
   "source": [
    "# This a simple arithmetic expression to mutiply then add integers:\n",
    "(3*4)+5"
   ]
  },
  {
   "cell_type": "code",
   "execution_count": 15,
   "id": "b7ccc4e3",
   "metadata": {},
   "outputs": [
    {
     "name": "stdout",
     "output_type": "stream",
     "text": [
      "Input time in min: 200\n",
      "hours-> 3\n"
     ]
    }
   ],
   "source": [
    "# This will convert 200 minutes to hours by diving by 60\n",
    "time = float(input(\"Input time in min: \"))\n",
    "\n",
    "hour = time // 60\n",
    "\n",
    "print(\"hours-> %d\" % (hour))"
   ]
  },
  {
   "cell_type": "markdown",
   "id": "14a1eff6",
   "metadata": {},
   "source": [
    "### Author:\n",
    "RABAH Abderrahim"
   ]
  }
 ],
 "metadata": {
  "kernelspec": {
   "display_name": "Python 3 (ipykernel)",
   "language": "python",
   "name": "python3"
  },
  "language_info": {
   "codemirror_mode": {
    "name": "ipython",
    "version": 3
   },
   "file_extension": ".py",
   "mimetype": "text/x-python",
   "name": "python",
   "nbconvert_exporter": "python",
   "pygments_lexer": "ipython3",
   "version": "3.11.5"
  }
 },
 "nbformat": 4,
 "nbformat_minor": 5
}
